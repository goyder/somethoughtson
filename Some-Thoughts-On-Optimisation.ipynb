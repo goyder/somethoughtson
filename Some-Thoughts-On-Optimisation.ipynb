{
 "cells": [
  {
   "cell_type": "markdown",
   "metadata": {},
   "source": [
    "# Some Thoughts On: *Optimisation*"
   ]
  },
  {
   "cell_type": "markdown",
   "metadata": {},
   "source": [
    "## Fundamentals"
   ]
  },
  {
   "cell_type": "markdown",
   "metadata": {},
   "source": [
    "We consider the world of mathematical optimisation.\n",
    "\n",
    "Put *too* simply, optimisation can be considered as attempting to minimise (or maximise, depending on your viewpoint) a function given some manner of constraints. \n",
    "\n",
    "Put mathematically, an general way to describe optimisation is to frame it in the following way.\n",
    "\n",
    "$ \\text{minimise } {\\bf x} \\in \\mathbb{R}^d \\\\\n",
    "f_i({\\bf x}), (i = 1, 2, \\ldots, M), \\\\\n",
    "\\text{subject to } \\\\ h_j({\\bf x})=0, (j=1, 2, \\ldots, J), \\\\\n",
    "g_k({\\bf x}) \\leq 0, (k=1, 2, \\ldots, K), \\\\\n",
    "\\text{where} f_i({\\bf x}), h_j({\\bf x}), g_k({\\bf x}) \\text{are functions of the design vector} \\\\\n",
    "{\\bf x} = (x_1, x_2, \\ldots, x_d)^T.\n",
    "$\n",
    "\n",
    "In other words, what combination of ${\\bf x}$ will give us the best value of $f_i({\\bf x})$ given some manner of constraints? [(Ref.)][1]\n",
    "\n",
    "### Some complications on the fundamentals\n",
    "\n",
    "Regarding the above equations: we typically have $i=1$ - that is to say, we only work on a single objective function. Practically, coming up with a single objective function that adequately describes the problem is all part of the fun of an optimisation problem.\n",
    "\n",
    "[1]: https://www.researchgate.net/profile/Xin-She_Yang/publication/263171713_Nature-Inspired_Optimization_Algorithms/links/00b7d53a181ff115c2000000/Nature-Inspired-Optimization-Algorithms.pdf"
   ]
  },
  {
   "cell_type": "markdown",
   "metadata": {},
   "source": [
    "## Example 1: Linear Programming"
   ]
  },
  {
   "cell_type": "markdown",
   "metadata": {},
   "source": [
    "*Provide a simple explanation of linear programming here.*"
   ]
  },
  {
   "cell_type": "markdown",
   "metadata": {},
   "source": [
    "We have a piece of cardboard that is 14 inches by 10 inches and we're going to cut out the corners [..] and fold up the sides form a box. Determine the height of the box that will give a maximum volume. [(Ref.)][1]\n",
    "\n",
    "[1]: http://tutorial.math.lamar.edu/Classes/CalcI/Optimization.aspx"
   ]
  },
  {
   "cell_type": "code",
   "execution_count": 1,
   "metadata": {},
   "outputs": [],
   "source": [
    "from scipy.optimize import linprog"
   ]
  },
  {
   "cell_type": "markdown",
   "metadata": {},
   "source": [
    "## Example 2: Gradient Descent"
   ]
  },
  {
   "cell_type": "code",
   "execution_count": null,
   "metadata": {},
   "outputs": [],
   "source": []
  },
  {
   "cell_type": "markdown",
   "metadata": {},
   "source": [
    "## Example: Harmony Search"
   ]
  },
  {
   "cell_type": "code",
   "execution_count": null,
   "metadata": {},
   "outputs": [],
   "source": []
  }
 ],
 "metadata": {
  "kernelspec": {
   "display_name": "Python 3",
   "language": "python",
   "name": "python3"
  },
  "language_info": {
   "codemirror_mode": {
    "name": "ipython",
    "version": 3
   },
   "file_extension": ".py",
   "mimetype": "text/x-python",
   "name": "python",
   "nbconvert_exporter": "python",
   "pygments_lexer": "ipython3",
   "version": "3.6.6"
  }
 },
 "nbformat": 4,
 "nbformat_minor": 2
}
